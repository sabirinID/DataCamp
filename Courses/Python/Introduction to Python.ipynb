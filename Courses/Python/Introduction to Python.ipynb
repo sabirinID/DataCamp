{
 "cells": [
  {
   "cell_type": "markdown",
   "metadata": {},
   "source": [
    "*COURSE*\n",
    "\n",
    "# Introduction to Python\n",
    "\n",
    "[Click to view website →](https://app.datacamp.com/learn/courses/intro-to-python-for-data-science)\n",
    "\n",
    "## Course Description\n",
    "\n",
    "Python is a general-purpose programming language that is becoming ever more popular for data science. Companies worldwide are using Python to harvest insights from their data and gain a competitive edge. Unlike other Python tutorials, this course focuses on Python specifically for data science. In our Introduction to Python course, you’ll learn about powerful ways to store and manipulate data, and helpful data science tools to begin conducting your own analyses. Start DataCamp’s online Python curriculum now.\n",
    "\n",
    "---\n",
    "\n",
    "- Beginner\n",
    "- 4 hours\n",
    "- 11 videos\n",
    "- 57 exercises\n",
    "\n",
    "---"
   ]
  },
  {
   "cell_type": "markdown",
   "metadata": {},
   "source": [
    "## 1. Python Basics\n",
    "\n",
    "An introduction to the basic concepts of Python. Learn how to use Python interactively and by using a script. Create your first variables and acquaint yourself with Python's basic data types."
   ]
  },
  {
   "cell_type": "markdown",
   "metadata": {},
   "source": [
    "Hello Python!\n",
    "\n",
    "When to use Python?\n",
    "\n",
    "The Python Interface\n",
    "\n",
    "Any comments?\n",
    "\n",
    "Python as a calculator\n",
    "\n",
    "Variables and Types\n",
    "\n",
    "Variable Assignment\n",
    "\n",
    "Calculations with variables\n",
    "\n",
    "Other variable types\n",
    "\n",
    "Guess the type\n",
    "\n",
    "Operations with other types\n",
    "\n",
    "Type conversion\n",
    "\n",
    "Can Python handle everything?"
   ]
  },
  {
   "cell_type": "markdown",
   "metadata": {},
   "source": [
    "### When to use Python?\n",
    "\n",
    "Python is a flexible language. For which applications can you use Python?\n",
    "\n",
    "Instructions\n",
    "\n",
    "Possible answers\n",
    "- All of the above.\n",
    "\n",
    "> Correct! Python is an extremely flexible language."
   ]
  },
  {
   "cell_type": "markdown",
   "metadata": {},
   "source": [
    "### The Python Interface\n",
    "Hit *Run Code* to run your first Python code with Datacamp and see the output!\n",
    "\n",
    "Notice the `script.py` window; this is where you can type Python code to solve exercises. You can hit *Run Code* and *Submit Answer* as often as you want. If you're stuck, you can click *Get Hint*, and ultimately *Get Solution*.\n",
    "\n",
    "You can also use the IPython Shell interactively by typing commands and hitting Enter. Here, your code will not be checked for correctness so it is a great way to experiment.\n",
    "\n",
    "Instructions\n",
    "\n",
    "- Experiment in the IPython Shell; type 5 / 8, for example.\n",
    "- Add another line of code to `script.py`, `print(7 + 10)`, to be checked for correctness.\n",
    "- Hit *Submit Answer* to execute the Python script and receive feedback."
   ]
  },
  {
   "cell_type": "code",
   "execution_count": 1,
   "metadata": {},
   "outputs": [
    {
     "name": "stdout",
     "output_type": "stream",
     "text": [
      "0.625\n",
      "17\n"
     ]
    }
   ],
   "source": [
    "# Example, do not modify!\n",
    "print(5 / 8)\n",
    "\n",
    "# Print the sum of 7 and 10\n",
    "print(7 + 10)"
   ]
  },
  {
   "cell_type": "markdown",
   "metadata": {},
   "source": [
    "> Great! On to the next one!"
   ]
  },
  {
   "cell_type": "markdown",
   "metadata": {},
   "source": [
    "### Any comments?\n",
    "You can also add comments to your Python scripts. Comments are important to make sure that you and others can understand what your code is about and do not run as Python code.\n",
    "\n",
    "They start with `#` tag. See the comment in the editor, `# Division`; now it's your turn to add a comment!\n",
    "\n",
    "Instructions\n",
    "\n",
    "- Above the `print(7 + 10)`, add the comment\n",
    "\n",
    "    `# Addition`"
   ]
  },
  {
   "cell_type": "code",
   "execution_count": 2,
   "metadata": {},
   "outputs": [
    {
     "name": "stdout",
     "output_type": "stream",
     "text": [
      "0.625\n",
      "17\n"
     ]
    }
   ],
   "source": [
    "# Division\n",
    "print(5 / 8)\n",
    "\n",
    "# Addition\n",
    "print(7 + 10)"
   ]
  },
  {
   "cell_type": "markdown",
   "metadata": {},
   "source": [
    "> Great!"
   ]
  },
  {
   "cell_type": "markdown",
   "metadata": {},
   "source": [
    "### Python as a calculator\n",
    "Python is perfectly suited to do basic calculations. It can do addition, subtraction, multiplication and division.\n",
    "\n",
    "The code in the script gives some examples.\n",
    "\n",
    "Now it's your turn to practice!\n",
    "\n",
    "Instructions\n",
    "\n",
    "- Print the sum of 4 + 5.\n",
    "- Print the result of subtracting 5 from 5.\n",
    "- Multiply 3 by 5.\n",
    "- Divide 10 by 2."
   ]
  },
  {
   "cell_type": "code",
   "execution_count": 3,
   "metadata": {},
   "outputs": [
    {
     "name": "stdout",
     "output_type": "stream",
     "text": [
      "10\n",
      "0\n",
      "15\n",
      "5.0\n",
      "4\n",
      "16\n",
      "194.87171000000012\n"
     ]
    }
   ],
   "source": [
    "\n",
    "# Addition, subtraction\n",
    "print(5 + 5)\n",
    "print(5 - 5)\n",
    "\n",
    "# Multiplication, division, modulo, and exponentiation\n",
    "print(3 * 5)\n",
    "print(10 / 2)\n",
    "print(18 % 7)\n",
    "print(4 ** 2)\n",
    "\n",
    "# How much is your $100 worth after 7 years?\n",
    "print(100 * (1.1 ** 7))"
   ]
  },
  {
   "cell_type": "code",
   "execution_count": 4,
   "metadata": {},
   "outputs": [
    {
     "name": "stdout",
     "output_type": "stream",
     "text": [
      "9\n",
      "0\n",
      "15\n",
      "5.0\n"
     ]
    }
   ],
   "source": [
    "# Addition\n",
    "print(4 + 5)\n",
    "\n",
    "# Subtraction\n",
    "print(5 - 5)\n",
    "\n",
    "# Multiplication\n",
    "print(3 * 5)\n",
    "\n",
    "# Division\n",
    "print(10 / 2)"
   ]
  },
  {
   "cell_type": "markdown",
   "metadata": {},
   "source": [
    "> That's correct! Python can help you do the math, a characteristic that will be helpful for analysis as we grow our data skills."
   ]
  },
  {
   "cell_type": "markdown",
   "metadata": {},
   "source": [
    "### Variable Assignment\n",
    "In Python, a variable allows you to refer to a value with a name. To create a variable x with a value of 5, you use =, like this example:\n",
    "\n",
    "`x = 5`\n",
    "You can now use the name of this variable, x, instead of the actual value, 5.\n",
    "\n",
    "Remember, = in Python means assignment, it doesn't test equality!\n",
    "\n",
    "Instructions\n",
    "\n",
    "- Create a variable `savings` with the value of 100.\n",
    "- Check out this variable by typing `print(savings)` in the script."
   ]
  },
  {
   "cell_type": "code",
   "execution_count": 5,
   "metadata": {},
   "outputs": [
    {
     "name": "stdout",
     "output_type": "stream",
     "text": [
      "100\n"
     ]
    }
   ],
   "source": [
    "# Create a variable savings\n",
    "savings = 100\n",
    "\n",
    "# Print out savings\n",
    "print(savings)"
   ]
  },
  {
   "cell_type": "markdown",
   "metadata": {},
   "source": [
    "> Great! Let's try to do some calculations with this variable now!"
   ]
  },
  {
   "cell_type": "markdown",
   "metadata": {},
   "source": [
    "### Calculations with variables\n",
    "You've now created a savings variable, so let's start saving!\n",
    "\n",
    "Instead of calculating with the actual values, you can use variables instead. The `savings` variable you created in the previous exercise with a value of 100 is available to you.\n",
    "\n",
    "How much money would you have saved four months from now, if you saved $10 each month?\n",
    "\n",
    "Instructions\n",
    "\n",
    "- Create a variable `monthly_savings`, equal to 10 and `num_months`, equal to 4.\n",
    "- Multiply `monthly_savings` by `num_months` and save it to `new_savings`.\n",
    "- Add `new_savings` to `savings`, saving the sum as `total_savings`.\n",
    "- Print the value of `total_savings`."
   ]
  },
  {
   "cell_type": "code",
   "execution_count": 6,
   "metadata": {},
   "outputs": [
    {
     "name": "stdout",
     "output_type": "stream",
     "text": [
      "194.87171000000012\n"
     ]
    }
   ],
   "source": [
    "# Create a variable savings\n",
    "savings = 100\n",
    "\n",
    "# Create a variable growth_multiplier\n",
    "growth_multiplier = 1.1\n",
    "\n",
    "# Calculate result\n",
    "result = savings * (growth_multiplier ** 7)\n",
    "\n",
    "# Print out result\n",
    "print(result)"
   ]
  },
  {
   "cell_type": "code",
   "execution_count": 7,
   "metadata": {},
   "outputs": [
    {
     "name": "stdout",
     "output_type": "stream",
     "text": [
      "140\n"
     ]
    }
   ],
   "source": [
    "# Create the variables monthly_savings and num_months\n",
    "monthly_savings = 10\n",
    "num_months = 4\n",
    "\n",
    "# Multiply monthly_savings and num_months\n",
    "new_savings = monthly_savings * num_months\n",
    "\n",
    "# Add new_savings to your savings\n",
    "total_savings = new_savings + savings\n",
    "\n",
    "# Print total_savings\n",
    "print(total_savings)"
   ]
  },
  {
   "cell_type": "markdown",
   "metadata": {},
   "source": [
    "> You now have $140 in savings!"
   ]
  },
  {
   "cell_type": "markdown",
   "metadata": {},
   "source": [
    "### Other variable types\n",
    "In the previous exercise, you worked with the integer Python data type:\n",
    "\n",
    "`int`, or integer: a number without a fractional part. `savings`, with the value 100, is an example of an integer.\n",
    "\n",
    "Next to numerical data types, there are three other very common data types:\n",
    "\n",
    "`float`, or floating point: a number that has both an integer and fractional part, separated by a point. 1.1, is an example of a float.\n",
    "`str`, or string: a type to represent text. You can use single or double quotes to build a string.\n",
    "`bool`, or boolean: a type to represent logical values. It can only be `True` or `False` (the capitalization is important!).\n",
    "Instructions\n",
    "\n",
    "- Create a new float, `half`, with the value 0.5.\n",
    "- Create a new string, `intro`, with the value `\"Hello! How are you?\"`.\n",
    "- Create a new boolean, `is_good`, with the value `True`."
   ]
  },
  {
   "cell_type": "code",
   "execution_count": 8,
   "metadata": {},
   "outputs": [],
   "source": [
    "# Create a variable desc\n",
    "desc = \"compound interest\"\n",
    "\n",
    "# Create a variable profitable\n",
    "profitable = True"
   ]
  },
  {
   "cell_type": "code",
   "execution_count": 9,
   "metadata": {},
   "outputs": [],
   "source": [
    "# Create a variable half\n",
    "half = 0.5\n",
    "\n",
    "# Create a variable intro\n",
    "intro = \"Hello! How are you?\"\n",
    "\n",
    "# Create a variable is_good\n",
    "is_good = True"
   ]
  },
  {
   "cell_type": "markdown",
   "metadata": {},
   "source": [
    "> Nice!"
   ]
  },
  {
   "cell_type": "markdown",
   "metadata": {},
   "source": [
    "### Guess the type\n",
    "To find out the type of a value or a variable that refers to that value, you can use the `type()` function. Suppose you've defined a variable a, but you forgot the type of this variable. To determine the type of a, simply execute:\n",
    "\n",
    "`type(a)`\n",
    "\n",
    "We already went ahead and created three variables: a, b and c. You can use the IPython shell to discover their type. Which of the following options is correct?\n",
    "\n",
    "Instructions\n",
    "\n",
    "Possible answers\n",
    "- a is of type `float`, b is of type `str`, c is of type `bool`"
   ]
  },
  {
   "cell_type": "markdown",
   "metadata": {},
   "source": [
    "> Correcto perfecto!"
   ]
  },
  {
   "cell_type": "markdown",
   "metadata": {},
   "source": [
    "### Operations with other types\n",
    "Hugo mentioned that different types behave differently in Python.\n",
    "\n",
    "When you sum two strings, for example, you'll get different behavior than when you sum two integers or two booleans.\n",
    "\n",
    "In the script some variables with different types have already been created. It's up to you to use them.\n",
    "\n",
    "Instructions\n",
    "\n",
    "- Calculate the product of `monthly_savings` and `num_months`. Store the result in `year_savings`.\n",
    "- What do you think the resulting type will be? Find out by printing out the type of - `year_savings`.\n",
    "- Calculate the sum of `intro` and `intro` and store the result in a new variable `doubleintro`.\n",
    "- Print out `doubleintro`. Did you expect this?"
   ]
  },
  {
   "cell_type": "code",
   "execution_count": 11,
   "metadata": {},
   "outputs": [
    {
     "name": "stdout",
     "output_type": "stream",
     "text": [
      "<class 'float'>\n",
      "110.00000000000001\n",
      "<class 'str'>\n",
      "compound interestcompound interest\n"
     ]
    }
   ],
   "source": [
    "savings = 100\n",
    "growth_multiplier = 1.1\n",
    "desc = \"compound interest\"\n",
    "\n",
    "# Assign product of savings and growth_multiplier to year1\n",
    "year1 = savings * growth_multiplier\n",
    "\n",
    "# Print the type of year1\n",
    "print(type(year1))\n",
    "print(year1)\n",
    "\n",
    "# Assign sum of desc and desc to doubledesc\n",
    "doubledesc = desc + desc\n",
    "\n",
    "# Print out doubledesc\n",
    "print(type(doubledesc))\n",
    "print(doubledesc)"
   ]
  },
  {
   "cell_type": "code",
   "execution_count": 12,
   "metadata": {},
   "outputs": [
    {
     "name": "stdout",
     "output_type": "stream",
     "text": [
      "<class 'int'>\n",
      "Hello! How are you?Hello! How are you?\n"
     ]
    }
   ],
   "source": [
    "monthly_savings = 10\n",
    "num_months = 12\n",
    "intro = \"Hello! How are you?\"\n",
    "\n",
    "# Calculate year_savings using monthly_savings and num_months\n",
    "year_savings = monthly_savings * num_months\n",
    "\n",
    "# Print the type of year_savings\n",
    "print(type(year_savings))\n",
    "\n",
    "# Assign sum of intro and intro to doubleintro\n",
    "doubleintro = intro + intro\n",
    "\n",
    "# Print out doubleintro\n",
    "print(doubleintro)"
   ]
  },
  {
   "cell_type": "markdown",
   "metadata": {},
   "source": [
    "> Nice. Notice how intro + intro causes \"Hello! How are you?\" and \"Hello! How are you?\" to be pasted together."
   ]
  },
  {
   "cell_type": "markdown",
   "metadata": {},
   "source": [
    "### Type conversion\n",
    "Using the + operator to paste together two strings can be very useful in building custom messages.\n",
    "\n",
    "Suppose, for example, that you've calculated your savings want to summarize the results in a string.\n",
    "\n",
    "To do this, you'll need to explicitly convert the types of your variables. More specifically, you'll need `str()`, to convert a value into a string. `str(savings)`, for example, will convert the integer `savings` to a string.\n",
    "\n",
    "Similar functions such as `int()`, `float()` and `bool()` will help you convert Python values into any type.\n",
    "\n",
    "Instructions\n",
    "\n",
    "- Hit *Run* Code to run the code. Try to understand the error message.\n",
    "- Fix the code such that the printout runs without errors; use the function `str()` to convert the variables `savings` and `total_savings` to strings.\n",
    "- Convert the variable `pi_string` to a float and store this float as a new variable, `pi_float`."
   ]
  },
  {
   "cell_type": "code",
   "execution_count": 14,
   "metadata": {},
   "outputs": [
    {
     "name": "stdout",
     "output_type": "stream",
     "text": [
      "I started with $100 and now have $194.87171000000012. Awesome!\n",
      "3.1415926\n"
     ]
    }
   ],
   "source": [
    "# Definition of savings and result\n",
    "savings = 100\n",
    "result = 100 * 1.10 ** 7\n",
    "\n",
    "# Fix the printout\n",
    "print(\"I started with $\" + str(savings) + \" and now have $\" + str(result) + \". Awesome!\")\n",
    "\n",
    "# Definition of pi_string\n",
    "pi_string = \"3.1415926\"\n",
    "\n",
    "# Convert pi_string into float: pi_float\n",
    "pi_float = float(pi_string)\n",
    "print(pi_float)"
   ]
  },
  {
   "cell_type": "code",
   "execution_count": 16,
   "metadata": {},
   "outputs": [
    {
     "name": "stdout",
     "output_type": "stream",
     "text": [
      "I started with $100 and now have $150. Awesome!\n",
      "3.1415926\n"
     ]
    }
   ],
   "source": [
    "# Definition of savings and total_savings\n",
    "savings = 100\n",
    "total_savings = 150\n",
    "\n",
    "# Fix the printout\n",
    "print(\"I started with $\" + str(savings) + \" and now have $\" + str(total_savings) + \". Awesome!\")\n",
    "\n",
    "# Definition of pi_string\n",
    "pi_string = \"3.1415926\"\n",
    "\n",
    "# Convert pi_string into float: pi_float\n",
    "pi_float = float(pi_string)\n",
    "print(pi_float)"
   ]
  },
  {
   "cell_type": "markdown",
   "metadata": {},
   "source": [
    "> Great! You have saved $150; that's pretty awesome indeed!"
   ]
  },
  {
   "cell_type": "markdown",
   "metadata": {},
   "source": [
    "### Can Python handle everything?\n",
    "Now that you know something more about combining different sources of information, have a look at the four Python expressions below. Which one of these will throw an error? You can always copy and paste this code in the IPython Shell to find out!\n",
    "\n",
    "Instructions\n",
    "\n",
    "Possible answers\n",
    "- \"The correct answer to this multiple choice exercise is answer number \" + 2"
   ]
  },
  {
   "cell_type": "markdown",
   "metadata": {},
   "source": [
    "> Correct! Because you're not converting 2 to a string with str(), this will give an error."
   ]
  },
  {
   "cell_type": "markdown",
   "metadata": {},
   "source": [
    "## 2. Python Lists\n",
    "\n",
    "Learn to store, access, and manipulate data in lists: the first step toward efficiently working with huge amounts of data."
   ]
  },
  {
   "cell_type": "markdown",
   "metadata": {},
   "source": [
    "Python Lists\n",
    "\n",
    "Create a list\n",
    "\n",
    "Create list with different types\n",
    "\n",
    "Select the valid list\n",
    "\n",
    "List of lists\n",
    "\n",
    "Subsetting Lists\n",
    "\n",
    "Subset and conquer\n",
    "\n",
    "Subset and calculate\n",
    "\n",
    "Slicing and dicing\n",
    "\n",
    "Slicing and dicing (2)\n",
    "\n",
    "Subsetting lists of lists\n",
    "\n",
    "Manipulating Lists\n",
    "\n",
    "Replace list elements\n",
    "\n",
    "Extend a list\n",
    "\n",
    "Delete list elements\n",
    "\n",
    "Inner workings of lists"
   ]
  },
  {
   "cell_type": "code",
   "execution_count": null,
   "metadata": {},
   "outputs": [],
   "source": []
  },
  {
   "cell_type": "markdown",
   "metadata": {},
   "source": [
    "## 3. Functions and Packages\n",
    "\n",
    "You'll learn how to use functions, methods, and packages to efficiently leverage the code that brilliant Python developers have written. The goal is to reduce the amount of code you need to solve challenging problems!"
   ]
  },
  {
   "cell_type": "markdown",
   "metadata": {},
   "source": [
    "Functions\n",
    "\n",
    "Familiar functions\n",
    "\n",
    "Help!\n",
    "\n",
    "Multiple arguments\n",
    "\n",
    "Methods\n",
    "\n",
    "String Methods\n",
    "\n",
    "List Methods (1)\n",
    "\n",
    "List Methods (2)\n",
    "\n",
    "Packages\n",
    "\n",
    "Import package\n",
    "\n",
    "Selective import\n",
    "\n",
    "Different ways of importing"
   ]
  },
  {
   "cell_type": "code",
   "execution_count": null,
   "metadata": {},
   "outputs": [],
   "source": []
  },
  {
   "cell_type": "markdown",
   "metadata": {},
   "source": [
    "## 4. NumPy\n",
    "\n",
    "NumPy is a fundamental Python package to efficiently practice data science. Learn to work with powerful tools in the NumPy array, and get started with data exploration."
   ]
  },
  {
   "cell_type": "markdown",
   "metadata": {},
   "source": [
    "NumPy\n",
    "\n",
    "Your First NumPy Array\n",
    "\n",
    "Baseball players' height\n",
    "\n",
    "Baseball player's BMI\n",
    "\n",
    "Lightweight baseball players\n",
    "\n",
    "NumPy Side Effects\n",
    "\n",
    "Subsetting NumPy Arrays\n",
    "\n",
    "2D NumPy Arrays\n",
    "\n",
    "Your First 2D NumPy Array\n",
    "\n",
    "Baseball data in 2D form\n",
    "\n",
    "Subsetting 2D NumPy Arrays\n",
    "\n",
    "2D Arithmetic\n",
    "\n",
    "NumPy: Basic Statistics\n",
    "\n",
    "Average versus median\n",
    "\n",
    "Explore the baseball data\n",
    "\n",
    "Blend it all together"
   ]
  },
  {
   "cell_type": "code",
   "execution_count": null,
   "metadata": {},
   "outputs": [],
   "source": []
  }
 ],
 "metadata": {
  "kernelspec": {
   "display_name": "base",
   "language": "python",
   "name": "python3"
  },
  "language_info": {
   "codemirror_mode": {
    "name": "ipython",
    "version": 3
   },
   "file_extension": ".py",
   "mimetype": "text/x-python",
   "name": "python",
   "nbconvert_exporter": "python",
   "pygments_lexer": "ipython3",
   "version": "3.10.9"
  }
 },
 "nbformat": 4,
 "nbformat_minor": 2
}
